{
 "cells": [
  {
   "cell_type": "code",
   "execution_count": 2,
   "id": "b3afe81f-f04a-4353-b62a-e39c57351e7d",
   "metadata": {},
   "outputs": [],
   "source": [
    "import pandas as pd\n",
    "import numpy as np\n",
    "import matplotlib.pyplot as plt\n",
    "import seaborn as sns\n",
    "%matplotlib inline"
   ]
  },
  {
   "cell_type": "code",
   "execution_count": 3,
   "id": "d7625e4d-5489-4610-bf6d-d3ffdafabb8d",
   "metadata": {},
   "outputs": [
    {
     "data": {
      "text/html": [
       "<div>\n",
       "<style scoped>\n",
       "    .dataframe tbody tr th:only-of-type {\n",
       "        vertical-align: middle;\n",
       "    }\n",
       "\n",
       "    .dataframe tbody tr th {\n",
       "        vertical-align: top;\n",
       "    }\n",
       "\n",
       "    .dataframe thead th {\n",
       "        text-align: right;\n",
       "    }\n",
       "</style>\n",
       "<table border=\"1\" class=\"dataframe\">\n",
       "  <thead>\n",
       "    <tr style=\"text-align: right;\">\n",
       "      <th></th>\n",
       "      <th>distance-to-solar-noon</th>\n",
       "      <th>temperature</th>\n",
       "      <th>wind-direction</th>\n",
       "      <th>wind-speed</th>\n",
       "      <th>sky-cover</th>\n",
       "      <th>visibility</th>\n",
       "      <th>humidity</th>\n",
       "      <th>average-wind-speed-(period)</th>\n",
       "      <th>average-pressure-(period)</th>\n",
       "      <th>power-generated</th>\n",
       "    </tr>\n",
       "  </thead>\n",
       "  <tbody>\n",
       "    <tr>\n",
       "      <th>0</th>\n",
       "      <td>0.859897</td>\n",
       "      <td>69</td>\n",
       "      <td>28</td>\n",
       "      <td>7.5</td>\n",
       "      <td>0</td>\n",
       "      <td>10.0</td>\n",
       "      <td>75</td>\n",
       "      <td>8.0</td>\n",
       "      <td>29.82</td>\n",
       "      <td>0</td>\n",
       "    </tr>\n",
       "    <tr>\n",
       "      <th>1</th>\n",
       "      <td>0.628535</td>\n",
       "      <td>69</td>\n",
       "      <td>28</td>\n",
       "      <td>7.5</td>\n",
       "      <td>0</td>\n",
       "      <td>10.0</td>\n",
       "      <td>77</td>\n",
       "      <td>5.0</td>\n",
       "      <td>29.85</td>\n",
       "      <td>0</td>\n",
       "    </tr>\n",
       "    <tr>\n",
       "      <th>2</th>\n",
       "      <td>0.397172</td>\n",
       "      <td>69</td>\n",
       "      <td>28</td>\n",
       "      <td>7.5</td>\n",
       "      <td>0</td>\n",
       "      <td>10.0</td>\n",
       "      <td>70</td>\n",
       "      <td>0.0</td>\n",
       "      <td>29.89</td>\n",
       "      <td>5418</td>\n",
       "    </tr>\n",
       "    <tr>\n",
       "      <th>3</th>\n",
       "      <td>0.165810</td>\n",
       "      <td>69</td>\n",
       "      <td>28</td>\n",
       "      <td>7.5</td>\n",
       "      <td>0</td>\n",
       "      <td>10.0</td>\n",
       "      <td>33</td>\n",
       "      <td>0.0</td>\n",
       "      <td>29.91</td>\n",
       "      <td>25477</td>\n",
       "    </tr>\n",
       "    <tr>\n",
       "      <th>4</th>\n",
       "      <td>0.065553</td>\n",
       "      <td>69</td>\n",
       "      <td>28</td>\n",
       "      <td>7.5</td>\n",
       "      <td>0</td>\n",
       "      <td>10.0</td>\n",
       "      <td>21</td>\n",
       "      <td>3.0</td>\n",
       "      <td>29.89</td>\n",
       "      <td>30069</td>\n",
       "    </tr>\n",
       "    <tr>\n",
       "      <th>...</th>\n",
       "      <td>...</td>\n",
       "      <td>...</td>\n",
       "      <td>...</td>\n",
       "      <td>...</td>\n",
       "      <td>...</td>\n",
       "      <td>...</td>\n",
       "      <td>...</td>\n",
       "      <td>...</td>\n",
       "      <td>...</td>\n",
       "      <td>...</td>\n",
       "    </tr>\n",
       "    <tr>\n",
       "      <th>2915</th>\n",
       "      <td>0.166453</td>\n",
       "      <td>63</td>\n",
       "      <td>27</td>\n",
       "      <td>13.9</td>\n",
       "      <td>4</td>\n",
       "      <td>10.0</td>\n",
       "      <td>75</td>\n",
       "      <td>10.0</td>\n",
       "      <td>29.93</td>\n",
       "      <td>6995</td>\n",
       "    </tr>\n",
       "    <tr>\n",
       "      <th>2916</th>\n",
       "      <td>0.064020</td>\n",
       "      <td>63</td>\n",
       "      <td>27</td>\n",
       "      <td>13.9</td>\n",
       "      <td>1</td>\n",
       "      <td>10.0</td>\n",
       "      <td>66</td>\n",
       "      <td>15.0</td>\n",
       "      <td>29.91</td>\n",
       "      <td>29490</td>\n",
       "    </tr>\n",
       "    <tr>\n",
       "      <th>2917</th>\n",
       "      <td>0.294494</td>\n",
       "      <td>63</td>\n",
       "      <td>27</td>\n",
       "      <td>13.9</td>\n",
       "      <td>2</td>\n",
       "      <td>10.0</td>\n",
       "      <td>68</td>\n",
       "      <td>21.0</td>\n",
       "      <td>29.88</td>\n",
       "      <td>17257</td>\n",
       "    </tr>\n",
       "    <tr>\n",
       "      <th>2918</th>\n",
       "      <td>0.524968</td>\n",
       "      <td>63</td>\n",
       "      <td>27</td>\n",
       "      <td>13.9</td>\n",
       "      <td>2</td>\n",
       "      <td>10.0</td>\n",
       "      <td>81</td>\n",
       "      <td>17.0</td>\n",
       "      <td>29.87</td>\n",
       "      <td>677</td>\n",
       "    </tr>\n",
       "    <tr>\n",
       "      <th>2919</th>\n",
       "      <td>0.755442</td>\n",
       "      <td>63</td>\n",
       "      <td>27</td>\n",
       "      <td>13.9</td>\n",
       "      <td>1</td>\n",
       "      <td>10.0</td>\n",
       "      <td>81</td>\n",
       "      <td>11.0</td>\n",
       "      <td>29.90</td>\n",
       "      <td>0</td>\n",
       "    </tr>\n",
       "  </tbody>\n",
       "</table>\n",
       "<p>2920 rows × 10 columns</p>\n",
       "</div>"
      ],
      "text/plain": [
       "      distance-to-solar-noon  temperature  wind-direction  wind-speed  \\\n",
       "0                   0.859897           69              28         7.5   \n",
       "1                   0.628535           69              28         7.5   \n",
       "2                   0.397172           69              28         7.5   \n",
       "3                   0.165810           69              28         7.5   \n",
       "4                   0.065553           69              28         7.5   \n",
       "...                      ...          ...             ...         ...   \n",
       "2915                0.166453           63              27        13.9   \n",
       "2916                0.064020           63              27        13.9   \n",
       "2917                0.294494           63              27        13.9   \n",
       "2918                0.524968           63              27        13.9   \n",
       "2919                0.755442           63              27        13.9   \n",
       "\n",
       "      sky-cover  visibility  humidity  average-wind-speed-(period)  \\\n",
       "0             0        10.0        75                          8.0   \n",
       "1             0        10.0        77                          5.0   \n",
       "2             0        10.0        70                          0.0   \n",
       "3             0        10.0        33                          0.0   \n",
       "4             0        10.0        21                          3.0   \n",
       "...         ...         ...       ...                          ...   \n",
       "2915          4        10.0        75                         10.0   \n",
       "2916          1        10.0        66                         15.0   \n",
       "2917          2        10.0        68                         21.0   \n",
       "2918          2        10.0        81                         17.0   \n",
       "2919          1        10.0        81                         11.0   \n",
       "\n",
       "      average-pressure-(period)  power-generated  \n",
       "0                         29.82                0  \n",
       "1                         29.85                0  \n",
       "2                         29.89             5418  \n",
       "3                         29.91            25477  \n",
       "4                         29.89            30069  \n",
       "...                         ...              ...  \n",
       "2915                      29.93             6995  \n",
       "2916                      29.91            29490  \n",
       "2917                      29.88            17257  \n",
       "2918                      29.87              677  \n",
       "2919                      29.90                0  \n",
       "\n",
       "[2920 rows x 10 columns]"
      ]
     },
     "execution_count": 3,
     "metadata": {},
     "output_type": "execute_result"
    }
   ],
   "source": [
    "df=pd.read_csv(r\"C:\\Users\\khobr\\OneDrive\\Desktop\\DATA Science\\Projects\\excel r 1 project\\solarpowergeneration.csv\")\n",
    "df"
   ]
  },
  {
   "cell_type": "code",
   "execution_count": 4,
   "id": "9cff4c4d-01b6-4b83-80dc-0541a211869a",
   "metadata": {},
   "outputs": [
    {
     "data": {
      "text/plain": [
       "(2920, 10)"
      ]
     },
     "execution_count": 4,
     "metadata": {},
     "output_type": "execute_result"
    }
   ],
   "source": [
    "df.shape"
   ]
  },
  {
   "cell_type": "code",
   "execution_count": 5,
   "id": "b073549c-ff06-4618-8059-799bfdd8e68f",
   "metadata": {},
   "outputs": [
    {
     "data": {
      "text/plain": [
       "distance-to-solar-noon         float64\n",
       "temperature                      int64\n",
       "wind-direction                   int64\n",
       "wind-speed                     float64\n",
       "sky-cover                        int64\n",
       "visibility                     float64\n",
       "humidity                         int64\n",
       "average-wind-speed-(period)    float64\n",
       "average-pressure-(period)      float64\n",
       "power-generated                  int64\n",
       "dtype: object"
      ]
     },
     "execution_count": 5,
     "metadata": {},
     "output_type": "execute_result"
    }
   ],
   "source": [
    "df.dtypes"
   ]
  },
  {
   "cell_type": "code",
   "execution_count": 6,
   "id": "b0143dec-3b87-48bf-b565-645e4de2ebc4",
   "metadata": {},
   "outputs": [
    {
     "name": "stdout",
     "output_type": "stream",
     "text": [
      "<class 'pandas.core.frame.DataFrame'>\n",
      "RangeIndex: 2920 entries, 0 to 2919\n",
      "Data columns (total 10 columns):\n",
      " #   Column                       Non-Null Count  Dtype  \n",
      "---  ------                       --------------  -----  \n",
      " 0   distance-to-solar-noon       2920 non-null   float64\n",
      " 1   temperature                  2920 non-null   int64  \n",
      " 2   wind-direction               2920 non-null   int64  \n",
      " 3   wind-speed                   2920 non-null   float64\n",
      " 4   sky-cover                    2920 non-null   int64  \n",
      " 5   visibility                   2920 non-null   float64\n",
      " 6   humidity                     2920 non-null   int64  \n",
      " 7   average-wind-speed-(period)  2919 non-null   float64\n",
      " 8   average-pressure-(period)    2920 non-null   float64\n",
      " 9   power-generated              2920 non-null   int64  \n",
      "dtypes: float64(5), int64(5)\n",
      "memory usage: 228.3 KB\n"
     ]
    }
   ],
   "source": [
    "df.info()\n"
   ]
  },
  {
   "cell_type": "code",
   "execution_count": 7,
   "id": "d89c2ebe-d257-4569-a356-66b43f266c35",
   "metadata": {},
   "outputs": [
    {
     "data": {
      "text/plain": [
       "Index(['distance-to-solar-noon', 'temperature', 'wind-direction', 'wind-speed',\n",
       "       'sky-cover', 'visibility', 'humidity', 'average-wind-speed-(period)',\n",
       "       'average-pressure-(period)', 'power-generated'],\n",
       "      dtype='object')"
      ]
     },
     "execution_count": 7,
     "metadata": {},
     "output_type": "execute_result"
    }
   ],
   "source": [
    "df.columns"
   ]
  },
  {
   "cell_type": "code",
   "execution_count": 8,
   "id": "e3963795-e71e-4c29-821a-3655d0eec031",
   "metadata": {},
   "outputs": [
    {
     "data": {
      "text/plain": [
       "distance-to-solar-noon         0\n",
       "temperature                    0\n",
       "wind-direction                 0\n",
       "wind-speed                     0\n",
       "sky-cover                      0\n",
       "visibility                     0\n",
       "humidity                       0\n",
       "average-wind-speed-(period)    1\n",
       "average-pressure-(period)      0\n",
       "power-generated                0\n",
       "dtype: int64"
      ]
     },
     "execution_count": 8,
     "metadata": {},
     "output_type": "execute_result"
    }
   ],
   "source": [
    "df.isnull().sum()"
   ]
  },
  {
   "cell_type": "code",
   "execution_count": 9,
   "id": "92d9e0cd-307c-4ec8-a47f-ec46a7a67e8c",
   "metadata": {},
   "outputs": [
    {
     "data": {
      "text/html": [
       "<div>\n",
       "<style scoped>\n",
       "    .dataframe tbody tr th:only-of-type {\n",
       "        vertical-align: middle;\n",
       "    }\n",
       "\n",
       "    .dataframe tbody tr th {\n",
       "        vertical-align: top;\n",
       "    }\n",
       "\n",
       "    .dataframe thead th {\n",
       "        text-align: right;\n",
       "    }\n",
       "</style>\n",
       "<table border=\"1\" class=\"dataframe\">\n",
       "  <thead>\n",
       "    <tr style=\"text-align: right;\">\n",
       "      <th></th>\n",
       "      <th>distance-to-solar-noon</th>\n",
       "      <th>temperature</th>\n",
       "      <th>wind-direction</th>\n",
       "      <th>wind-speed</th>\n",
       "      <th>sky-cover</th>\n",
       "      <th>visibility</th>\n",
       "      <th>humidity</th>\n",
       "      <th>average-wind-speed-(period)</th>\n",
       "      <th>average-pressure-(period)</th>\n",
       "      <th>power-generated</th>\n",
       "    </tr>\n",
       "  </thead>\n",
       "  <tbody>\n",
       "  </tbody>\n",
       "</table>\n",
       "</div>"
      ],
      "text/plain": [
       "Empty DataFrame\n",
       "Columns: [distance-to-solar-noon, temperature, wind-direction, wind-speed, sky-cover, visibility, humidity, average-wind-speed-(period), average-pressure-(period), power-generated]\n",
       "Index: []"
      ]
     },
     "execution_count": 9,
     "metadata": {},
     "output_type": "execute_result"
    }
   ],
   "source": [
    "df[df.duplicated()]"
   ]
  },
  {
   "cell_type": "code",
   "execution_count": 10,
   "id": "acfe904a-7d2f-4bf7-a59e-9f264344bc0d",
   "metadata": {},
   "outputs": [
    {
     "data": {
      "text/html": [
       "<div>\n",
       "<style scoped>\n",
       "    .dataframe tbody tr th:only-of-type {\n",
       "        vertical-align: middle;\n",
       "    }\n",
       "\n",
       "    .dataframe tbody tr th {\n",
       "        vertical-align: top;\n",
       "    }\n",
       "\n",
       "    .dataframe thead th {\n",
       "        text-align: right;\n",
       "    }\n",
       "</style>\n",
       "<table border=\"1\" class=\"dataframe\">\n",
       "  <thead>\n",
       "    <tr style=\"text-align: right;\">\n",
       "      <th></th>\n",
       "      <th>distance-to-solar-noon</th>\n",
       "      <th>temperature</th>\n",
       "      <th>wind-direction</th>\n",
       "      <th>wind-speed</th>\n",
       "      <th>sky-cover</th>\n",
       "      <th>visibility</th>\n",
       "      <th>humidity</th>\n",
       "      <th>average-wind-speed-(period)</th>\n",
       "      <th>average-pressure-(period)</th>\n",
       "      <th>power-generated</th>\n",
       "    </tr>\n",
       "  </thead>\n",
       "  <tbody>\n",
       "    <tr>\n",
       "      <th>714</th>\n",
       "      <td>0.406143</td>\n",
       "      <td>57</td>\n",
       "      <td>12</td>\n",
       "      <td>2.8</td>\n",
       "      <td>2</td>\n",
       "      <td>4.0</td>\n",
       "      <td>96</td>\n",
       "      <td>NaN</td>\n",
       "      <td>30.16</td>\n",
       "      <td>159</td>\n",
       "    </tr>\n",
       "  </tbody>\n",
       "</table>\n",
       "</div>"
      ],
      "text/plain": [
       "     distance-to-solar-noon  temperature  wind-direction  wind-speed  \\\n",
       "714                0.406143           57              12         2.8   \n",
       "\n",
       "     sky-cover  visibility  humidity  average-wind-speed-(period)  \\\n",
       "714          2         4.0        96                          NaN   \n",
       "\n",
       "     average-pressure-(period)  power-generated  \n",
       "714                      30.16              159  "
      ]
     },
     "execution_count": 10,
     "metadata": {},
     "output_type": "execute_result"
    }
   ],
   "source": [
    "df[df.isnull().any(axis=1)]"
   ]
  },
  {
   "cell_type": "code",
   "execution_count": 11,
   "id": "a8a44497-6650-4c64-af4e-6a1ced2cdf5b",
   "metadata": {},
   "outputs": [
    {
     "data": {
      "text/plain": [
       "1"
      ]
     },
     "execution_count": 11,
     "metadata": {},
     "output_type": "execute_result"
    }
   ],
   "source": [
    "df['average-wind-speed-(period)'].isnull().sum()"
   ]
  },
  {
   "cell_type": "code",
   "execution_count": 12,
   "id": "a11121e7-c747-44f1-88bf-440f3d31fdd6",
   "metadata": {},
   "outputs": [],
   "source": [
    "df['average-wind-speed-(period)'] = df['average-wind-speed-(period)'].fillna(0.0)"
   ]
  },
  {
   "cell_type": "code",
   "execution_count": 13,
   "id": "0f999d44-f596-488d-bea1-cf9131365cd6",
   "metadata": {},
   "outputs": [
    {
     "data": {
      "text/plain": [
       "distance-to-solar-noon         0\n",
       "temperature                    0\n",
       "wind-direction                 0\n",
       "wind-speed                     0\n",
       "sky-cover                      0\n",
       "visibility                     0\n",
       "humidity                       0\n",
       "average-wind-speed-(period)    0\n",
       "average-pressure-(period)      0\n",
       "power-generated                0\n",
       "dtype: int64"
      ]
     },
     "execution_count": 13,
     "metadata": {},
     "output_type": "execute_result"
    }
   ],
   "source": [
    "df.isnull().sum()"
   ]
  },
  {
   "cell_type": "code",
   "execution_count": 14,
   "id": "9570486d-f31b-4e20-991b-6da82b3425fb",
   "metadata": {},
   "outputs": [
    {
     "data": {
      "text/html": [
       "<div>\n",
       "<style scoped>\n",
       "    .dataframe tbody tr th:only-of-type {\n",
       "        vertical-align: middle;\n",
       "    }\n",
       "\n",
       "    .dataframe tbody tr th {\n",
       "        vertical-align: top;\n",
       "    }\n",
       "\n",
       "    .dataframe thead th {\n",
       "        text-align: right;\n",
       "    }\n",
       "</style>\n",
       "<table border=\"1\" class=\"dataframe\">\n",
       "  <thead>\n",
       "    <tr style=\"text-align: right;\">\n",
       "      <th></th>\n",
       "      <th>distance-to-solar-noon</th>\n",
       "      <th>temperature</th>\n",
       "      <th>wind-direction</th>\n",
       "      <th>wind-speed</th>\n",
       "      <th>sky-cover</th>\n",
       "      <th>visibility</th>\n",
       "      <th>humidity</th>\n",
       "      <th>average-wind-speed-(period)</th>\n",
       "      <th>average-pressure-(period)</th>\n",
       "      <th>power-generated</th>\n",
       "    </tr>\n",
       "  </thead>\n",
       "  <tbody>\n",
       "    <tr>\n",
       "      <th>count</th>\n",
       "      <td>2920.000000</td>\n",
       "      <td>2920.000000</td>\n",
       "      <td>2920.000000</td>\n",
       "      <td>2920.000000</td>\n",
       "      <td>2920.000000</td>\n",
       "      <td>2920.000000</td>\n",
       "      <td>2920.000000</td>\n",
       "      <td>2920.000000</td>\n",
       "      <td>2920.000000</td>\n",
       "      <td>2920.000000</td>\n",
       "    </tr>\n",
       "    <tr>\n",
       "      <th>mean</th>\n",
       "      <td>0.503294</td>\n",
       "      <td>58.468493</td>\n",
       "      <td>24.953425</td>\n",
       "      <td>10.096986</td>\n",
       "      <td>1.987671</td>\n",
       "      <td>9.557705</td>\n",
       "      <td>73.513699</td>\n",
       "      <td>10.125685</td>\n",
       "      <td>30.017760</td>\n",
       "      <td>6979.846233</td>\n",
       "    </tr>\n",
       "    <tr>\n",
       "      <th>std</th>\n",
       "      <td>0.298024</td>\n",
       "      <td>6.841200</td>\n",
       "      <td>6.915178</td>\n",
       "      <td>4.838185</td>\n",
       "      <td>1.411978</td>\n",
       "      <td>1.383884</td>\n",
       "      <td>15.077139</td>\n",
       "      <td>7.262722</td>\n",
       "      <td>0.142006</td>\n",
       "      <td>10312.336413</td>\n",
       "    </tr>\n",
       "    <tr>\n",
       "      <th>min</th>\n",
       "      <td>0.050401</td>\n",
       "      <td>42.000000</td>\n",
       "      <td>1.000000</td>\n",
       "      <td>1.100000</td>\n",
       "      <td>0.000000</td>\n",
       "      <td>0.000000</td>\n",
       "      <td>14.000000</td>\n",
       "      <td>0.000000</td>\n",
       "      <td>29.480000</td>\n",
       "      <td>0.000000</td>\n",
       "    </tr>\n",
       "    <tr>\n",
       "      <th>25%</th>\n",
       "      <td>0.243714</td>\n",
       "      <td>53.000000</td>\n",
       "      <td>25.000000</td>\n",
       "      <td>6.600000</td>\n",
       "      <td>1.000000</td>\n",
       "      <td>10.000000</td>\n",
       "      <td>65.000000</td>\n",
       "      <td>5.000000</td>\n",
       "      <td>29.920000</td>\n",
       "      <td>0.000000</td>\n",
       "    </tr>\n",
       "    <tr>\n",
       "      <th>50%</th>\n",
       "      <td>0.478957</td>\n",
       "      <td>59.000000</td>\n",
       "      <td>27.000000</td>\n",
       "      <td>10.000000</td>\n",
       "      <td>2.000000</td>\n",
       "      <td>10.000000</td>\n",
       "      <td>77.000000</td>\n",
       "      <td>9.000000</td>\n",
       "      <td>30.000000</td>\n",
       "      <td>404.000000</td>\n",
       "    </tr>\n",
       "    <tr>\n",
       "      <th>75%</th>\n",
       "      <td>0.739528</td>\n",
       "      <td>63.000000</td>\n",
       "      <td>29.000000</td>\n",
       "      <td>13.100000</td>\n",
       "      <td>3.000000</td>\n",
       "      <td>10.000000</td>\n",
       "      <td>84.000000</td>\n",
       "      <td>15.000000</td>\n",
       "      <td>30.110000</td>\n",
       "      <td>12723.500000</td>\n",
       "    </tr>\n",
       "    <tr>\n",
       "      <th>max</th>\n",
       "      <td>1.141361</td>\n",
       "      <td>78.000000</td>\n",
       "      <td>36.000000</td>\n",
       "      <td>26.600000</td>\n",
       "      <td>4.000000</td>\n",
       "      <td>10.000000</td>\n",
       "      <td>100.000000</td>\n",
       "      <td>40.000000</td>\n",
       "      <td>30.530000</td>\n",
       "      <td>36580.000000</td>\n",
       "    </tr>\n",
       "  </tbody>\n",
       "</table>\n",
       "</div>"
      ],
      "text/plain": [
       "       distance-to-solar-noon  temperature  wind-direction   wind-speed  \\\n",
       "count             2920.000000  2920.000000     2920.000000  2920.000000   \n",
       "mean                 0.503294    58.468493       24.953425    10.096986   \n",
       "std                  0.298024     6.841200        6.915178     4.838185   \n",
       "min                  0.050401    42.000000        1.000000     1.100000   \n",
       "25%                  0.243714    53.000000       25.000000     6.600000   \n",
       "50%                  0.478957    59.000000       27.000000    10.000000   \n",
       "75%                  0.739528    63.000000       29.000000    13.100000   \n",
       "max                  1.141361    78.000000       36.000000    26.600000   \n",
       "\n",
       "         sky-cover   visibility     humidity  average-wind-speed-(period)  \\\n",
       "count  2920.000000  2920.000000  2920.000000                  2920.000000   \n",
       "mean      1.987671     9.557705    73.513699                    10.125685   \n",
       "std       1.411978     1.383884    15.077139                     7.262722   \n",
       "min       0.000000     0.000000    14.000000                     0.000000   \n",
       "25%       1.000000    10.000000    65.000000                     5.000000   \n",
       "50%       2.000000    10.000000    77.000000                     9.000000   \n",
       "75%       3.000000    10.000000    84.000000                    15.000000   \n",
       "max       4.000000    10.000000   100.000000                    40.000000   \n",
       "\n",
       "       average-pressure-(period)  power-generated  \n",
       "count                2920.000000      2920.000000  \n",
       "mean                   30.017760      6979.846233  \n",
       "std                     0.142006     10312.336413  \n",
       "min                    29.480000         0.000000  \n",
       "25%                    29.920000         0.000000  \n",
       "50%                    30.000000       404.000000  \n",
       "75%                    30.110000     12723.500000  \n",
       "max                    30.530000     36580.000000  "
      ]
     },
     "execution_count": 14,
     "metadata": {},
     "output_type": "execute_result"
    }
   ],
   "source": [
    "df.describe()"
   ]
  },
  {
   "cell_type": "code",
   "execution_count": 15,
   "id": "c9a64f1b-b675-401a-a35a-01c495e2f9da",
   "metadata": {},
   "outputs": [
    {
     "data": {
      "text/html": [
       "<div>\n",
       "<style scoped>\n",
       "    .dataframe tbody tr th:only-of-type {\n",
       "        vertical-align: middle;\n",
       "    }\n",
       "\n",
       "    .dataframe tbody tr th {\n",
       "        vertical-align: top;\n",
       "    }\n",
       "\n",
       "    .dataframe thead th {\n",
       "        text-align: right;\n",
       "    }\n",
       "</style>\n",
       "<table border=\"1\" class=\"dataframe\">\n",
       "  <thead>\n",
       "    <tr style=\"text-align: right;\">\n",
       "      <th></th>\n",
       "      <th>distance-to-solar-noon</th>\n",
       "      <th>temperature</th>\n",
       "      <th>wind-direction</th>\n",
       "      <th>wind-speed</th>\n",
       "      <th>sky-cover</th>\n",
       "      <th>visibility</th>\n",
       "      <th>humidity</th>\n",
       "      <th>average-wind-speed-(period)</th>\n",
       "      <th>average-pressure-(period)</th>\n",
       "      <th>power-generated</th>\n",
       "    </tr>\n",
       "  </thead>\n",
       "  <tbody>\n",
       "    <tr>\n",
       "      <th>distance-to-solar-noon</th>\n",
       "      <td>1.000000</td>\n",
       "      <td>-0.145207</td>\n",
       "      <td>-0.118010</td>\n",
       "      <td>-0.145073</td>\n",
       "      <td>-0.015184</td>\n",
       "      <td>0.065807</td>\n",
       "      <td>0.368964</td>\n",
       "      <td>-0.214660</td>\n",
       "      <td>0.082505</td>\n",
       "      <td>-0.746681</td>\n",
       "    </tr>\n",
       "    <tr>\n",
       "      <th>temperature</th>\n",
       "      <td>-0.145207</td>\n",
       "      <td>1.000000</td>\n",
       "      <td>0.342146</td>\n",
       "      <td>0.096267</td>\n",
       "      <td>-0.230672</td>\n",
       "      <td>0.194110</td>\n",
       "      <td>-0.221463</td>\n",
       "      <td>0.054630</td>\n",
       "      <td>-0.435723</td>\n",
       "      <td>0.132193</td>\n",
       "    </tr>\n",
       "    <tr>\n",
       "      <th>wind-direction</th>\n",
       "      <td>-0.118010</td>\n",
       "      <td>0.342146</td>\n",
       "      <td>1.000000</td>\n",
       "      <td>0.341529</td>\n",
       "      <td>-0.137140</td>\n",
       "      <td>0.203445</td>\n",
       "      <td>-0.095917</td>\n",
       "      <td>0.230524</td>\n",
       "      <td>-0.272405</td>\n",
       "      <td>0.146788</td>\n",
       "    </tr>\n",
       "    <tr>\n",
       "      <th>wind-speed</th>\n",
       "      <td>-0.145073</td>\n",
       "      <td>0.096267</td>\n",
       "      <td>0.341529</td>\n",
       "      <td>1.000000</td>\n",
       "      <td>0.107793</td>\n",
       "      <td>0.184778</td>\n",
       "      <td>0.004901</td>\n",
       "      <td>0.673860</td>\n",
       "      <td>-0.379752</td>\n",
       "      <td>0.142641</td>\n",
       "    </tr>\n",
       "    <tr>\n",
       "      <th>sky-cover</th>\n",
       "      <td>-0.015184</td>\n",
       "      <td>-0.230672</td>\n",
       "      <td>-0.137140</td>\n",
       "      <td>0.107793</td>\n",
       "      <td>1.000000</td>\n",
       "      <td>-0.223523</td>\n",
       "      <td>0.394576</td>\n",
       "      <td>0.044282</td>\n",
       "      <td>-0.091512</td>\n",
       "      <td>-0.187236</td>\n",
       "    </tr>\n",
       "    <tr>\n",
       "      <th>visibility</th>\n",
       "      <td>0.065807</td>\n",
       "      <td>0.194110</td>\n",
       "      <td>0.203445</td>\n",
       "      <td>0.184778</td>\n",
       "      <td>-0.223523</td>\n",
       "      <td>1.000000</td>\n",
       "      <td>-0.291320</td>\n",
       "      <td>0.145095</td>\n",
       "      <td>-0.105345</td>\n",
       "      <td>0.076536</td>\n",
       "    </tr>\n",
       "    <tr>\n",
       "      <th>humidity</th>\n",
       "      <td>0.368964</td>\n",
       "      <td>-0.221463</td>\n",
       "      <td>-0.095917</td>\n",
       "      <td>0.004901</td>\n",
       "      <td>0.394576</td>\n",
       "      <td>-0.291320</td>\n",
       "      <td>1.000000</td>\n",
       "      <td>-0.218599</td>\n",
       "      <td>0.018489</td>\n",
       "      <td>-0.522545</td>\n",
       "    </tr>\n",
       "    <tr>\n",
       "      <th>average-wind-speed-(period)</th>\n",
       "      <td>-0.214660</td>\n",
       "      <td>0.054630</td>\n",
       "      <td>0.230524</td>\n",
       "      <td>0.673860</td>\n",
       "      <td>0.044282</td>\n",
       "      <td>0.145095</td>\n",
       "      <td>-0.218599</td>\n",
       "      <td>1.000000</td>\n",
       "      <td>-0.293787</td>\n",
       "      <td>0.278377</td>\n",
       "    </tr>\n",
       "    <tr>\n",
       "      <th>average-pressure-(period)</th>\n",
       "      <td>0.082505</td>\n",
       "      <td>-0.435723</td>\n",
       "      <td>-0.272405</td>\n",
       "      <td>-0.379752</td>\n",
       "      <td>-0.091512</td>\n",
       "      <td>-0.105345</td>\n",
       "      <td>0.018489</td>\n",
       "      <td>-0.293787</td>\n",
       "      <td>1.000000</td>\n",
       "      <td>-0.036771</td>\n",
       "    </tr>\n",
       "    <tr>\n",
       "      <th>power-generated</th>\n",
       "      <td>-0.746681</td>\n",
       "      <td>0.132193</td>\n",
       "      <td>0.146788</td>\n",
       "      <td>0.142641</td>\n",
       "      <td>-0.187236</td>\n",
       "      <td>0.076536</td>\n",
       "      <td>-0.522545</td>\n",
       "      <td>0.278377</td>\n",
       "      <td>-0.036771</td>\n",
       "      <td>1.000000</td>\n",
       "    </tr>\n",
       "  </tbody>\n",
       "</table>\n",
       "</div>"
      ],
      "text/plain": [
       "                             distance-to-solar-noon  temperature  \\\n",
       "distance-to-solar-noon                     1.000000    -0.145207   \n",
       "temperature                               -0.145207     1.000000   \n",
       "wind-direction                            -0.118010     0.342146   \n",
       "wind-speed                                -0.145073     0.096267   \n",
       "sky-cover                                 -0.015184    -0.230672   \n",
       "visibility                                 0.065807     0.194110   \n",
       "humidity                                   0.368964    -0.221463   \n",
       "average-wind-speed-(period)               -0.214660     0.054630   \n",
       "average-pressure-(period)                  0.082505    -0.435723   \n",
       "power-generated                           -0.746681     0.132193   \n",
       "\n",
       "                             wind-direction  wind-speed  sky-cover  \\\n",
       "distance-to-solar-noon            -0.118010   -0.145073  -0.015184   \n",
       "temperature                        0.342146    0.096267  -0.230672   \n",
       "wind-direction                     1.000000    0.341529  -0.137140   \n",
       "wind-speed                         0.341529    1.000000   0.107793   \n",
       "sky-cover                         -0.137140    0.107793   1.000000   \n",
       "visibility                         0.203445    0.184778  -0.223523   \n",
       "humidity                          -0.095917    0.004901   0.394576   \n",
       "average-wind-speed-(period)        0.230524    0.673860   0.044282   \n",
       "average-pressure-(period)         -0.272405   -0.379752  -0.091512   \n",
       "power-generated                    0.146788    0.142641  -0.187236   \n",
       "\n",
       "                             visibility  humidity  \\\n",
       "distance-to-solar-noon         0.065807  0.368964   \n",
       "temperature                    0.194110 -0.221463   \n",
       "wind-direction                 0.203445 -0.095917   \n",
       "wind-speed                     0.184778  0.004901   \n",
       "sky-cover                     -0.223523  0.394576   \n",
       "visibility                     1.000000 -0.291320   \n",
       "humidity                      -0.291320  1.000000   \n",
       "average-wind-speed-(period)    0.145095 -0.218599   \n",
       "average-pressure-(period)     -0.105345  0.018489   \n",
       "power-generated                0.076536 -0.522545   \n",
       "\n",
       "                             average-wind-speed-(period)  \\\n",
       "distance-to-solar-noon                         -0.214660   \n",
       "temperature                                     0.054630   \n",
       "wind-direction                                  0.230524   \n",
       "wind-speed                                      0.673860   \n",
       "sky-cover                                       0.044282   \n",
       "visibility                                      0.145095   \n",
       "humidity                                       -0.218599   \n",
       "average-wind-speed-(period)                     1.000000   \n",
       "average-pressure-(period)                      -0.293787   \n",
       "power-generated                                 0.278377   \n",
       "\n",
       "                             average-pressure-(period)  power-generated  \n",
       "distance-to-solar-noon                        0.082505        -0.746681  \n",
       "temperature                                  -0.435723         0.132193  \n",
       "wind-direction                               -0.272405         0.146788  \n",
       "wind-speed                                   -0.379752         0.142641  \n",
       "sky-cover                                    -0.091512        -0.187236  \n",
       "visibility                                   -0.105345         0.076536  \n",
       "humidity                                      0.018489        -0.522545  \n",
       "average-wind-speed-(period)                  -0.293787         0.278377  \n",
       "average-pressure-(period)                     1.000000        -0.036771  \n",
       "power-generated                              -0.036771         1.000000  "
      ]
     },
     "execution_count": 15,
     "metadata": {},
     "output_type": "execute_result"
    }
   ],
   "source": [
    "df.corr()"
   ]
  },
  {
   "cell_type": "code",
   "execution_count": 16,
   "id": "65d779c0-c44a-4194-a4eb-64b6f1d6c475",
   "metadata": {},
   "outputs": [],
   "source": [
    "import seaborn as sns\n",
    "from sklearn.metrics import accuracy_score"
   ]
  },
  {
   "cell_type": "code",
   "execution_count": 17,
   "id": "f5e7e41a-c89a-4541-a771-1f2294bcc3cd",
   "metadata": {},
   "outputs": [],
   "source": [
    "temp=df.drop(df.columns[[3,4,8]],axis=1)"
   ]
  },
  {
   "cell_type": "code",
   "execution_count": 18,
   "id": "7ad453d3-4da8-4505-87d1-c8bfd1f0c09a",
   "metadata": {},
   "outputs": [
    {
     "data": {
      "text/html": [
       "<div>\n",
       "<style scoped>\n",
       "    .dataframe tbody tr th:only-of-type {\n",
       "        vertical-align: middle;\n",
       "    }\n",
       "\n",
       "    .dataframe tbody tr th {\n",
       "        vertical-align: top;\n",
       "    }\n",
       "\n",
       "    .dataframe thead th {\n",
       "        text-align: right;\n",
       "    }\n",
       "</style>\n",
       "<table border=\"1\" class=\"dataframe\">\n",
       "  <thead>\n",
       "    <tr style=\"text-align: right;\">\n",
       "      <th></th>\n",
       "      <th>distance-to-solar-noon</th>\n",
       "      <th>temperature</th>\n",
       "      <th>wind-direction</th>\n",
       "      <th>visibility</th>\n",
       "      <th>humidity</th>\n",
       "      <th>average-wind-speed-(period)</th>\n",
       "      <th>power-generated</th>\n",
       "    </tr>\n",
       "  </thead>\n",
       "  <tbody>\n",
       "    <tr>\n",
       "      <th>distance-to-solar-noon</th>\n",
       "      <td>1.000000</td>\n",
       "      <td>-0.145207</td>\n",
       "      <td>-0.118010</td>\n",
       "      <td>0.065807</td>\n",
       "      <td>0.368964</td>\n",
       "      <td>-0.214660</td>\n",
       "      <td>-0.746681</td>\n",
       "    </tr>\n",
       "    <tr>\n",
       "      <th>temperature</th>\n",
       "      <td>-0.145207</td>\n",
       "      <td>1.000000</td>\n",
       "      <td>0.342146</td>\n",
       "      <td>0.194110</td>\n",
       "      <td>-0.221463</td>\n",
       "      <td>0.054630</td>\n",
       "      <td>0.132193</td>\n",
       "    </tr>\n",
       "    <tr>\n",
       "      <th>wind-direction</th>\n",
       "      <td>-0.118010</td>\n",
       "      <td>0.342146</td>\n",
       "      <td>1.000000</td>\n",
       "      <td>0.203445</td>\n",
       "      <td>-0.095917</td>\n",
       "      <td>0.230524</td>\n",
       "      <td>0.146788</td>\n",
       "    </tr>\n",
       "    <tr>\n",
       "      <th>visibility</th>\n",
       "      <td>0.065807</td>\n",
       "      <td>0.194110</td>\n",
       "      <td>0.203445</td>\n",
       "      <td>1.000000</td>\n",
       "      <td>-0.291320</td>\n",
       "      <td>0.145095</td>\n",
       "      <td>0.076536</td>\n",
       "    </tr>\n",
       "    <tr>\n",
       "      <th>humidity</th>\n",
       "      <td>0.368964</td>\n",
       "      <td>-0.221463</td>\n",
       "      <td>-0.095917</td>\n",
       "      <td>-0.291320</td>\n",
       "      <td>1.000000</td>\n",
       "      <td>-0.218599</td>\n",
       "      <td>-0.522545</td>\n",
       "    </tr>\n",
       "    <tr>\n",
       "      <th>average-wind-speed-(period)</th>\n",
       "      <td>-0.214660</td>\n",
       "      <td>0.054630</td>\n",
       "      <td>0.230524</td>\n",
       "      <td>0.145095</td>\n",
       "      <td>-0.218599</td>\n",
       "      <td>1.000000</td>\n",
       "      <td>0.278377</td>\n",
       "    </tr>\n",
       "    <tr>\n",
       "      <th>power-generated</th>\n",
       "      <td>-0.746681</td>\n",
       "      <td>0.132193</td>\n",
       "      <td>0.146788</td>\n",
       "      <td>0.076536</td>\n",
       "      <td>-0.522545</td>\n",
       "      <td>0.278377</td>\n",
       "      <td>1.000000</td>\n",
       "    </tr>\n",
       "  </tbody>\n",
       "</table>\n",
       "</div>"
      ],
      "text/plain": [
       "                             distance-to-solar-noon  temperature  \\\n",
       "distance-to-solar-noon                     1.000000    -0.145207   \n",
       "temperature                               -0.145207     1.000000   \n",
       "wind-direction                            -0.118010     0.342146   \n",
       "visibility                                 0.065807     0.194110   \n",
       "humidity                                   0.368964    -0.221463   \n",
       "average-wind-speed-(period)               -0.214660     0.054630   \n",
       "power-generated                           -0.746681     0.132193   \n",
       "\n",
       "                             wind-direction  visibility  humidity  \\\n",
       "distance-to-solar-noon            -0.118010    0.065807  0.368964   \n",
       "temperature                        0.342146    0.194110 -0.221463   \n",
       "wind-direction                     1.000000    0.203445 -0.095917   \n",
       "visibility                         0.203445    1.000000 -0.291320   \n",
       "humidity                          -0.095917   -0.291320  1.000000   \n",
       "average-wind-speed-(period)        0.230524    0.145095 -0.218599   \n",
       "power-generated                    0.146788    0.076536 -0.522545   \n",
       "\n",
       "                             average-wind-speed-(period)  power-generated  \n",
       "distance-to-solar-noon                         -0.214660        -0.746681  \n",
       "temperature                                     0.054630         0.132193  \n",
       "wind-direction                                  0.230524         0.146788  \n",
       "visibility                                      0.145095         0.076536  \n",
       "humidity                                       -0.218599        -0.522545  \n",
       "average-wind-speed-(period)                     1.000000         0.278377  \n",
       "power-generated                                 0.278377         1.000000  "
      ]
     },
     "execution_count": 18,
     "metadata": {},
     "output_type": "execute_result"
    }
   ],
   "source": [
    "temp.corr()"
   ]
  },
  {
   "cell_type": "code",
   "execution_count": 19,
   "id": "16851ca4-e7db-43ff-a217-d46dfa8b0699",
   "metadata": {},
   "outputs": [
    {
     "data": {
      "text/plain": [
       "(39493285.08445084, 0.6250771956699783)"
      ]
     },
     "execution_count": 19,
     "metadata": {},
     "output_type": "execute_result"
    }
   ],
   "source": [
    "from sklearn.model_selection import train_test_split\n",
    "from sklearn.linear_model import LinearRegression\n",
    "from sklearn.metrics import mean_squared_error, r2_score\n",
    "\n",
    "# Handle missing values by filling with the median (as a simple approach)\n",
    "df['average-wind-speed-(period)'].fillna(df['average-wind-speed-(period)'].median(), inplace=True)\n",
    "\n",
    "# Define features (X) and target (y)\n",
    "X = df.drop(columns=['power-generated'])\n",
    "y = df['power-generated']\n",
    "\n",
    "# Split the dataset into training and testing sets (80% train, 20% test)\n",
    "X_train, X_test, y_train, y_test = train_test_split(X, y, test_size=0.2, random_state=42)\n",
    "\n",
    "# Train a Linear Regression model\n",
    "model = LinearRegression()\n",
    "model.fit(X_train, y_train)\n",
    "\n",
    "# Make predictions\n",
    "y_pred = model.predict(X_test)\n",
    "\n",
    "# Evaluate the model\n",
    "mse = mean_squared_error(y_test, y_pred)\n",
    "r2 = r2_score(y_test, y_pred)\n",
    "\n",
    "mse, r2"
   ]
  },
  {
   "cell_type": "code",
   "execution_count": 20,
   "id": "1fc67247-7d39-408c-938b-a69fae05b51a",
   "metadata": {},
   "outputs": [],
   "source": [
    "import pandas as pd\n",
    "import matplotlib.pyplot as plt\n",
    "from sklearn import datasets  \n",
    "import numpy as np\n",
    "from sklearn.model_selection import train_test_split\n",
    "from sklearn.tree import  DecisionTreeClassifier\n",
    "from sklearn import tree\n",
    "from sklearn.metrics import classification_report\n",
    "from sklearn import preprocessing"
   ]
  },
  {
   "cell_type": "code",
   "execution_count": 21,
   "id": "ac96bc35-b384-49db-89e8-2a3156a1ff9d",
   "metadata": {},
   "outputs": [],
   "source": [
    "x=df.iloc[:,0:8]\n",
    "y=df['power-generated']"
   ]
  },
  {
   "cell_type": "code",
   "execution_count": 22,
   "id": "f2064e32-6deb-49a1-b17d-3d64b5f13cfe",
   "metadata": {},
   "outputs": [
    {
     "data": {
      "text/html": [
       "<div>\n",
       "<style scoped>\n",
       "    .dataframe tbody tr th:only-of-type {\n",
       "        vertical-align: middle;\n",
       "    }\n",
       "\n",
       "    .dataframe tbody tr th {\n",
       "        vertical-align: top;\n",
       "    }\n",
       "\n",
       "    .dataframe thead th {\n",
       "        text-align: right;\n",
       "    }\n",
       "</style>\n",
       "<table border=\"1\" class=\"dataframe\">\n",
       "  <thead>\n",
       "    <tr style=\"text-align: right;\">\n",
       "      <th></th>\n",
       "      <th>distance-to-solar-noon</th>\n",
       "      <th>temperature</th>\n",
       "      <th>wind-direction</th>\n",
       "      <th>wind-speed</th>\n",
       "      <th>sky-cover</th>\n",
       "      <th>visibility</th>\n",
       "      <th>humidity</th>\n",
       "      <th>average-wind-speed-(period)</th>\n",
       "    </tr>\n",
       "  </thead>\n",
       "  <tbody>\n",
       "    <tr>\n",
       "      <th>0</th>\n",
       "      <td>0.859897</td>\n",
       "      <td>69</td>\n",
       "      <td>28</td>\n",
       "      <td>7.5</td>\n",
       "      <td>0</td>\n",
       "      <td>10.0</td>\n",
       "      <td>75</td>\n",
       "      <td>8.0</td>\n",
       "    </tr>\n",
       "    <tr>\n",
       "      <th>1</th>\n",
       "      <td>0.628535</td>\n",
       "      <td>69</td>\n",
       "      <td>28</td>\n",
       "      <td>7.5</td>\n",
       "      <td>0</td>\n",
       "      <td>10.0</td>\n",
       "      <td>77</td>\n",
       "      <td>5.0</td>\n",
       "    </tr>\n",
       "    <tr>\n",
       "      <th>2</th>\n",
       "      <td>0.397172</td>\n",
       "      <td>69</td>\n",
       "      <td>28</td>\n",
       "      <td>7.5</td>\n",
       "      <td>0</td>\n",
       "      <td>10.0</td>\n",
       "      <td>70</td>\n",
       "      <td>0.0</td>\n",
       "    </tr>\n",
       "    <tr>\n",
       "      <th>3</th>\n",
       "      <td>0.165810</td>\n",
       "      <td>69</td>\n",
       "      <td>28</td>\n",
       "      <td>7.5</td>\n",
       "      <td>0</td>\n",
       "      <td>10.0</td>\n",
       "      <td>33</td>\n",
       "      <td>0.0</td>\n",
       "    </tr>\n",
       "    <tr>\n",
       "      <th>4</th>\n",
       "      <td>0.065553</td>\n",
       "      <td>69</td>\n",
       "      <td>28</td>\n",
       "      <td>7.5</td>\n",
       "      <td>0</td>\n",
       "      <td>10.0</td>\n",
       "      <td>21</td>\n",
       "      <td>3.0</td>\n",
       "    </tr>\n",
       "    <tr>\n",
       "      <th>...</th>\n",
       "      <td>...</td>\n",
       "      <td>...</td>\n",
       "      <td>...</td>\n",
       "      <td>...</td>\n",
       "      <td>...</td>\n",
       "      <td>...</td>\n",
       "      <td>...</td>\n",
       "      <td>...</td>\n",
       "    </tr>\n",
       "    <tr>\n",
       "      <th>2915</th>\n",
       "      <td>0.166453</td>\n",
       "      <td>63</td>\n",
       "      <td>27</td>\n",
       "      <td>13.9</td>\n",
       "      <td>4</td>\n",
       "      <td>10.0</td>\n",
       "      <td>75</td>\n",
       "      <td>10.0</td>\n",
       "    </tr>\n",
       "    <tr>\n",
       "      <th>2916</th>\n",
       "      <td>0.064020</td>\n",
       "      <td>63</td>\n",
       "      <td>27</td>\n",
       "      <td>13.9</td>\n",
       "      <td>1</td>\n",
       "      <td>10.0</td>\n",
       "      <td>66</td>\n",
       "      <td>15.0</td>\n",
       "    </tr>\n",
       "    <tr>\n",
       "      <th>2917</th>\n",
       "      <td>0.294494</td>\n",
       "      <td>63</td>\n",
       "      <td>27</td>\n",
       "      <td>13.9</td>\n",
       "      <td>2</td>\n",
       "      <td>10.0</td>\n",
       "      <td>68</td>\n",
       "      <td>21.0</td>\n",
       "    </tr>\n",
       "    <tr>\n",
       "      <th>2918</th>\n",
       "      <td>0.524968</td>\n",
       "      <td>63</td>\n",
       "      <td>27</td>\n",
       "      <td>13.9</td>\n",
       "      <td>2</td>\n",
       "      <td>10.0</td>\n",
       "      <td>81</td>\n",
       "      <td>17.0</td>\n",
       "    </tr>\n",
       "    <tr>\n",
       "      <th>2919</th>\n",
       "      <td>0.755442</td>\n",
       "      <td>63</td>\n",
       "      <td>27</td>\n",
       "      <td>13.9</td>\n",
       "      <td>1</td>\n",
       "      <td>10.0</td>\n",
       "      <td>81</td>\n",
       "      <td>11.0</td>\n",
       "    </tr>\n",
       "  </tbody>\n",
       "</table>\n",
       "<p>2920 rows × 8 columns</p>\n",
       "</div>"
      ],
      "text/plain": [
       "      distance-to-solar-noon  temperature  wind-direction  wind-speed  \\\n",
       "0                   0.859897           69              28         7.5   \n",
       "1                   0.628535           69              28         7.5   \n",
       "2                   0.397172           69              28         7.5   \n",
       "3                   0.165810           69              28         7.5   \n",
       "4                   0.065553           69              28         7.5   \n",
       "...                      ...          ...             ...         ...   \n",
       "2915                0.166453           63              27        13.9   \n",
       "2916                0.064020           63              27        13.9   \n",
       "2917                0.294494           63              27        13.9   \n",
       "2918                0.524968           63              27        13.9   \n",
       "2919                0.755442           63              27        13.9   \n",
       "\n",
       "      sky-cover  visibility  humidity  average-wind-speed-(period)  \n",
       "0             0        10.0        75                          8.0  \n",
       "1             0        10.0        77                          5.0  \n",
       "2             0        10.0        70                          0.0  \n",
       "3             0        10.0        33                          0.0  \n",
       "4             0        10.0        21                          3.0  \n",
       "...         ...         ...       ...                          ...  \n",
       "2915          4        10.0        75                         10.0  \n",
       "2916          1        10.0        66                         15.0  \n",
       "2917          2        10.0        68                         21.0  \n",
       "2918          2        10.0        81                         17.0  \n",
       "2919          1        10.0        81                         11.0  \n",
       "\n",
       "[2920 rows x 8 columns]"
      ]
     },
     "execution_count": 22,
     "metadata": {},
     "output_type": "execute_result"
    }
   ],
   "source": [
    "x"
   ]
  },
  {
   "cell_type": "code",
   "execution_count": 23,
   "id": "17dd0b5e-2ea1-4239-b67c-d0dfffc564e0",
   "metadata": {},
   "outputs": [
    {
     "data": {
      "text/plain": [
       "0           0\n",
       "1           0\n",
       "2        5418\n",
       "3       25477\n",
       "4       30069\n",
       "        ...  \n",
       "2915     6995\n",
       "2916    29490\n",
       "2917    17257\n",
       "2918      677\n",
       "2919        0\n",
       "Name: power-generated, Length: 2920, dtype: int64"
      ]
     },
     "execution_count": 23,
     "metadata": {},
     "output_type": "execute_result"
    }
   ],
   "source": [
    "y"
   ]
  },
  {
   "cell_type": "code",
   "execution_count": 24,
   "id": "d840cfed-41c1-4e22-b52d-fd9d2c7ccfaa",
   "metadata": {},
   "outputs": [
    {
     "data": {
      "text/plain": [
       "array([    0,  5418, 25477, ...,  6995, 29490, 17257], dtype=int64)"
      ]
     },
     "execution_count": 24,
     "metadata": {},
     "output_type": "execute_result"
    }
   ],
   "source": [
    "df['power-generated'].unique()"
   ]
  },
  {
   "cell_type": "code",
   "execution_count": 25,
   "id": "33a5f3b3-6b14-452f-9b9a-e4954d7593f3",
   "metadata": {},
   "outputs": [
    {
     "data": {
      "text/plain": [
       "['distance-to-solar-noon',\n",
       " 'temperature',\n",
       " 'wind-direction',\n",
       " 'wind-speed',\n",
       " 'sky-cover',\n",
       " 'visibility',\n",
       " 'humidity',\n",
       " 'average-wind-speed-(period)',\n",
       " 'average-pressure-(period)',\n",
       " 'power-generated']"
      ]
     },
     "execution_count": 25,
     "metadata": {},
     "output_type": "execute_result"
    }
   ],
   "source": [
    "colnames = list(df.columns)\n",
    "colnames"
   ]
  },
  {
   "cell_type": "code",
   "execution_count": 26,
   "id": "4447cf7d-5871-450a-8bb7-7d31307ba6f5",
   "metadata": {},
   "outputs": [],
   "source": [
    "# Splitting data into training and testing data set\n",
    "x_train, x_test,y_train,y_test = train_test_split(x,y, test_size=0.2,random_state=40)"
   ]
  },
  {
   "cell_type": "code",
   "execution_count": 27,
   "id": "20639502-57c6-4456-adac-cf5508f16152",
   "metadata": {},
   "outputs": [],
   "source": [
    "#Building Decision Tree Classifier using Entropy Criteria"
   ]
  },
  {
   "cell_type": "code",
   "execution_count": 28,
   "id": "ad3a9de2-e871-4f0e-babd-20c9e7ca1b62",
   "metadata": {},
   "outputs": [
    {
     "data": {
      "text/html": [
       "<style>#sk-container-id-1 {color: black;background-color: white;}#sk-container-id-1 pre{padding: 0;}#sk-container-id-1 div.sk-toggleable {background-color: white;}#sk-container-id-1 label.sk-toggleable__label {cursor: pointer;display: block;width: 100%;margin-bottom: 0;padding: 0.3em;box-sizing: border-box;text-align: center;}#sk-container-id-1 label.sk-toggleable__label-arrow:before {content: \"▸\";float: left;margin-right: 0.25em;color: #696969;}#sk-container-id-1 label.sk-toggleable__label-arrow:hover:before {color: black;}#sk-container-id-1 div.sk-estimator:hover label.sk-toggleable__label-arrow:before {color: black;}#sk-container-id-1 div.sk-toggleable__content {max-height: 0;max-width: 0;overflow: hidden;text-align: left;background-color: #f0f8ff;}#sk-container-id-1 div.sk-toggleable__content pre {margin: 0.2em;color: black;border-radius: 0.25em;background-color: #f0f8ff;}#sk-container-id-1 input.sk-toggleable__control:checked~div.sk-toggleable__content {max-height: 200px;max-width: 100%;overflow: auto;}#sk-container-id-1 input.sk-toggleable__control:checked~label.sk-toggleable__label-arrow:before {content: \"▾\";}#sk-container-id-1 div.sk-estimator input.sk-toggleable__control:checked~label.sk-toggleable__label {background-color: #d4ebff;}#sk-container-id-1 div.sk-label input.sk-toggleable__control:checked~label.sk-toggleable__label {background-color: #d4ebff;}#sk-container-id-1 input.sk-hidden--visually {border: 0;clip: rect(1px 1px 1px 1px);clip: rect(1px, 1px, 1px, 1px);height: 1px;margin: -1px;overflow: hidden;padding: 0;position: absolute;width: 1px;}#sk-container-id-1 div.sk-estimator {font-family: monospace;background-color: #f0f8ff;border: 1px dotted black;border-radius: 0.25em;box-sizing: border-box;margin-bottom: 0.5em;}#sk-container-id-1 div.sk-estimator:hover {background-color: #d4ebff;}#sk-container-id-1 div.sk-parallel-item::after {content: \"\";width: 100%;border-bottom: 1px solid gray;flex-grow: 1;}#sk-container-id-1 div.sk-label:hover label.sk-toggleable__label {background-color: #d4ebff;}#sk-container-id-1 div.sk-serial::before {content: \"\";position: absolute;border-left: 1px solid gray;box-sizing: border-box;top: 0;bottom: 0;left: 50%;z-index: 0;}#sk-container-id-1 div.sk-serial {display: flex;flex-direction: column;align-items: center;background-color: white;padding-right: 0.2em;padding-left: 0.2em;position: relative;}#sk-container-id-1 div.sk-item {position: relative;z-index: 1;}#sk-container-id-1 div.sk-parallel {display: flex;align-items: stretch;justify-content: center;background-color: white;position: relative;}#sk-container-id-1 div.sk-item::before, #sk-container-id-1 div.sk-parallel-item::before {content: \"\";position: absolute;border-left: 1px solid gray;box-sizing: border-box;top: 0;bottom: 0;left: 50%;z-index: -1;}#sk-container-id-1 div.sk-parallel-item {display: flex;flex-direction: column;z-index: 1;position: relative;background-color: white;}#sk-container-id-1 div.sk-parallel-item:first-child::after {align-self: flex-end;width: 50%;}#sk-container-id-1 div.sk-parallel-item:last-child::after {align-self: flex-start;width: 50%;}#sk-container-id-1 div.sk-parallel-item:only-child::after {width: 0;}#sk-container-id-1 div.sk-dashed-wrapped {border: 1px dashed gray;margin: 0 0.4em 0.5em 0.4em;box-sizing: border-box;padding-bottom: 0.4em;background-color: white;}#sk-container-id-1 div.sk-label label {font-family: monospace;font-weight: bold;display: inline-block;line-height: 1.2em;}#sk-container-id-1 div.sk-label-container {text-align: center;}#sk-container-id-1 div.sk-container {/* jupyter's `normalize.less` sets `[hidden] { display: none; }` but bootstrap.min.css set `[hidden] { display: none !important; }` so we also need the `!important` here to be able to override the default hidden behavior on the sphinx rendered scikit-learn.org. See: https://github.com/scikit-learn/scikit-learn/issues/21755 */display: inline-block !important;position: relative;}#sk-container-id-1 div.sk-text-repr-fallback {display: none;}</style><div id=\"sk-container-id-1\" class=\"sk-top-container\"><div class=\"sk-text-repr-fallback\"><pre>DecisionTreeClassifier(criterion=&#x27;entropy&#x27;, max_depth=3)</pre><b>In a Jupyter environment, please rerun this cell to show the HTML representation or trust the notebook. <br />On GitHub, the HTML representation is unable to render, please try loading this page with nbviewer.org.</b></div><div class=\"sk-container\" hidden><div class=\"sk-item\"><div class=\"sk-estimator sk-toggleable\"><input class=\"sk-toggleable__control sk-hidden--visually\" id=\"sk-estimator-id-1\" type=\"checkbox\" checked><label for=\"sk-estimator-id-1\" class=\"sk-toggleable__label sk-toggleable__label-arrow\">DecisionTreeClassifier</label><div class=\"sk-toggleable__content\"><pre>DecisionTreeClassifier(criterion=&#x27;entropy&#x27;, max_depth=3)</pre></div></div></div></div></div>"
      ],
      "text/plain": [
       "DecisionTreeClassifier(criterion='entropy', max_depth=3)"
      ]
     },
     "execution_count": 28,
     "metadata": {},
     "output_type": "execute_result"
    }
   ],
   "source": [
    "model = DecisionTreeClassifier(criterion = 'entropy',max_depth=3)\n",
    "model.fit(x_train,y_train)"
   ]
  },
  {
   "cell_type": "code",
   "execution_count": 29,
   "id": "343fc01c-b16d-4e43-a7b5-ac3fbe4c4ea5",
   "metadata": {},
   "outputs": [
    {
     "data": {
      "image/png": "[encoded data removed]",
      "text/plain": [
       "<Figure size 640x480 with 1 Axes>"
      ]
     },
     "metadata": {},
     "output_type": "display_data"
    }
   ],
   "source": [
    "#PLot the decision tree\n",
    "tree.plot_tree(model);"
   ]
  },
  {
   "cell_type": "code",
   "execution_count": 30,
   "id": "135291d8-be0c-4476-85e9-50cf320e2045",
   "metadata": {},
   "outputs": [
    {
     "data": {
      "text/plain": [
       "0        517\n",
       "16173     67\n",
       "Name: count, dtype: int64"
      ]
     },
     "execution_count": 30,
     "metadata": {},
     "output_type": "execute_result"
    }
   ],
   "source": [
    "#Predicting on test data\n",
    "preds = model.predict(x_test) # predicting on test data set \n",
    "pd.Series(preds).value_counts() # getting the count of each category "
   ]
  },
  {
   "cell_type": "code",
   "execution_count": 31,
   "id": "c48369c0-7c3a-4b5f-b1ab-a929e099c2f8",
   "metadata": {},
   "outputs": [
    {
     "data": {
      "text/plain": [
       "array([    0,     0,     0,     0,     0,     0,     0,     0,     0,\n",
       "           0,     0,     0,     0,     0,     0,     0,     0,     0,\n",
       "           0,     0,     0,     0,     0,     0,     0,     0,     0,\n",
       "           0,     0,     0,     0,     0,     0, 16173,     0,     0,\n",
       "           0,     0,     0,     0,     0,     0,     0,     0,     0,\n",
       "           0,     0, 16173,     0,     0,     0,     0,     0,     0,\n",
       "           0,     0,     0,     0, 16173, 16173,     0, 16173,     0,\n",
       "           0,     0,     0,     0,     0,     0,     0,     0,     0,\n",
       "           0, 16173,     0,     0,     0,     0,     0,     0,     0,\n",
       "           0,     0,     0,     0,     0,     0,     0,     0,     0,\n",
       "           0,     0,     0,     0,     0,     0, 16173,     0,     0,\n",
       "       16173,     0,     0,     0,     0, 16173,     0, 16173,     0,\n",
       "           0,     0,     0,     0,     0,     0,     0,     0,     0,\n",
       "           0,     0,     0, 16173,     0, 16173, 16173,     0,     0,\n",
       "           0,     0,     0,     0,     0,     0,     0,     0,     0,\n",
       "           0,     0,     0,     0, 16173,     0,     0, 16173, 16173,\n",
       "           0,     0,     0,     0,     0,     0,     0,     0,     0,\n",
       "       16173,     0,     0,     0,     0,     0, 16173,     0,     0,\n",
       "           0,     0,     0,     0,     0, 16173,     0, 16173,     0,\n",
       "           0,     0,     0,     0,     0,     0,     0,     0,     0,\n",
       "           0,     0,     0,     0,     0,     0, 16173,     0,     0,\n",
       "           0,     0,     0, 16173,     0, 16173,     0,     0,     0,\n",
       "           0,     0,     0,     0,     0, 16173, 16173,     0,     0,\n",
       "           0,     0,     0,     0,     0,     0, 16173,     0,     0,\n",
       "           0,     0,     0,     0,     0,     0,     0,     0,     0,\n",
       "           0, 16173,     0,     0,     0,     0,     0,     0,     0,\n",
       "           0,     0, 16173,     0,     0,     0, 16173,     0,     0,\n",
       "           0,     0,     0, 16173,     0, 16173,     0,     0,     0,\n",
       "       16173,     0,     0,     0,     0,     0,     0,     0, 16173,\n",
       "           0,     0,     0,     0,     0,     0,     0,     0,     0,\n",
       "           0,     0,     0, 16173,     0,     0,     0,     0, 16173,\n",
       "           0,     0,     0,     0,     0,     0,     0,     0, 16173,\n",
       "           0,     0,     0,     0,     0,     0,     0,     0,     0,\n",
       "           0,     0,     0, 16173, 16173,     0,     0,     0,     0,\n",
       "       16173,     0,     0,     0,     0,     0,     0,     0, 16173,\n",
       "           0, 16173, 16173,     0,     0,     0,     0,     0,     0,\n",
       "           0,     0,     0,     0,     0,     0,     0,     0,     0,\n",
       "           0,     0,     0,     0,     0,     0,     0,     0,     0,\n",
       "           0, 16173, 16173,     0,     0,     0, 16173,     0,     0,\n",
       "       16173,     0,     0,     0, 16173,     0,     0,     0,     0,\n",
       "           0,     0,     0,     0, 16173,     0,     0,     0,     0,\n",
       "           0,     0,     0,     0,     0,     0,     0,     0,     0,\n",
       "           0,     0,     0,     0,     0,     0, 16173,     0,     0,\n",
       "           0,     0,     0,     0,     0,     0,     0,     0,     0,\n",
       "           0,     0, 16173,     0,     0,     0,     0,     0,     0,\n",
       "           0,     0,     0,     0,     0,     0,     0,     0,     0,\n",
       "           0,     0,     0,     0,     0,     0,     0,     0,     0,\n",
       "           0,     0,     0, 16173,     0,     0,     0,     0,     0,\n",
       "           0,     0,     0,     0,     0,     0,     0,     0,     0,\n",
       "           0,     0,     0,     0,     0,     0,     0,     0, 16173,\n",
       "       16173,     0,     0,     0,     0,     0, 16173,     0,     0,\n",
       "       16173,     0,     0,     0,     0,     0,     0,     0,     0,\n",
       "           0,     0,     0, 16173,     0,     0,     0,     0,     0,\n",
       "           0,     0,     0, 16173,     0,     0,     0,     0,     0,\n",
       "           0,     0,     0,     0,     0,     0,     0,     0,     0,\n",
       "           0,     0,     0, 16173,     0,     0,     0,     0,     0,\n",
       "           0,     0, 16173,     0,     0,     0,     0,     0, 16173,\n",
       "       16173,     0,     0,     0,     0,     0,     0,     0,     0,\n",
       "           0,     0,     0,     0,     0,     0,     0,     0,     0,\n",
       "           0,     0,     0,     0,     0,     0,     0,     0,     0,\n",
       "           0,     0,     0,     0, 16173,     0,     0,     0, 16173,\n",
       "           0,     0,     0,     0, 16173,     0,     0,     0,     0,\n",
       "           0,     0,     0,     0,     0,     0,     0,     0,     0,\n",
       "           0, 16173, 16173,     0,     0,     0,     0,     0,     0,\n",
       "           0,     0, 16173,     0,     0,     0,     0,     0],\n",
       "      dtype=int64)"
      ]
     },
     "execution_count": 31,
     "metadata": {},
     "output_type": "execute_result"
    }
   ],
   "source": [
    "preds"
   ]
  },
  {
   "cell_type": "code",
   "execution_count": 32,
   "id": "d3dfc1d5-a3c8-4e14-9fbe-34d767accfab",
   "metadata": {},
   "outputs": [
    {
     "data": {
      "text/html": [
       "<div>\n",
       "<style scoped>\n",
       "    .dataframe tbody tr th:only-of-type {\n",
       "        vertical-align: middle;\n",
       "    }\n",
       "\n",
       "    .dataframe tbody tr th {\n",
       "        vertical-align: top;\n",
       "    }\n",
       "\n",
       "    .dataframe thead th {\n",
       "        text-align: right;\n",
       "    }\n",
       "</style>\n",
       "<table border=\"1\" class=\"dataframe\">\n",
       "  <thead>\n",
       "    <tr style=\"text-align: right;\">\n",
       "      <th>col_0</th>\n",
       "      <th>0</th>\n",
       "      <th>16173</th>\n",
       "    </tr>\n",
       "    <tr>\n",
       "      <th>power-generated</th>\n",
       "      <th></th>\n",
       "      <th></th>\n",
       "    </tr>\n",
       "  </thead>\n",
       "  <tbody>\n",
       "    <tr>\n",
       "      <th>0</th>\n",
       "      <td>273</td>\n",
       "      <td>0</td>\n",
       "    </tr>\n",
       "    <tr>\n",
       "      <th>3</th>\n",
       "      <td>1</td>\n",
       "      <td>0</td>\n",
       "    </tr>\n",
       "    <tr>\n",
       "      <th>18</th>\n",
       "      <td>1</td>\n",
       "      <td>0</td>\n",
       "    </tr>\n",
       "    <tr>\n",
       "      <th>25</th>\n",
       "      <td>1</td>\n",
       "      <td>0</td>\n",
       "    </tr>\n",
       "    <tr>\n",
       "      <th>59</th>\n",
       "      <td>1</td>\n",
       "      <td>0</td>\n",
       "    </tr>\n",
       "    <tr>\n",
       "      <th>...</th>\n",
       "      <td>...</td>\n",
       "      <td>...</td>\n",
       "    </tr>\n",
       "    <tr>\n",
       "      <th>34710</th>\n",
       "      <td>1</td>\n",
       "      <td>0</td>\n",
       "    </tr>\n",
       "    <tr>\n",
       "      <th>34780</th>\n",
       "      <td>0</td>\n",
       "      <td>1</td>\n",
       "    </tr>\n",
       "    <tr>\n",
       "      <th>34976</th>\n",
       "      <td>0</td>\n",
       "      <td>1</td>\n",
       "    </tr>\n",
       "    <tr>\n",
       "      <th>35282</th>\n",
       "      <td>1</td>\n",
       "      <td>0</td>\n",
       "    </tr>\n",
       "    <tr>\n",
       "      <th>36580</th>\n",
       "      <td>1</td>\n",
       "      <td>0</td>\n",
       "    </tr>\n",
       "  </tbody>\n",
       "</table>\n",
       "<p>310 rows × 2 columns</p>\n",
       "</div>"
      ],
      "text/plain": [
       "col_0            0      16173\n",
       "power-generated              \n",
       "0                  273      0\n",
       "3                    1      0\n",
       "18                   1      0\n",
       "25                   1      0\n",
       "59                   1      0\n",
       "...                ...    ...\n",
       "34710                1      0\n",
       "34780                0      1\n",
       "34976                0      1\n",
       "35282                1      0\n",
       "36580                1      0\n",
       "\n",
       "[310 rows x 2 columns]"
      ]
     },
     "execution_count": 32,
     "metadata": {},
     "output_type": "execute_result"
    }
   ],
   "source": [
    "pd.crosstab(y_test,preds) # getting the 2 way table to understand the correct and wrong predictions"
   ]
  },
  {
   "cell_type": "code",
   "execution_count": 33,
   "id": "237df7a4-54d2-4a86-9d83-a442dce5463a",
   "metadata": {},
   "outputs": [
    {
     "data": {
      "text/plain": [
       "0.4674657534246575"
      ]
     },
     "execution_count": 33,
     "metadata": {},
     "output_type": "execute_result"
    }
   ],
   "source": [
    "# Accuracy\n",
    "np.mean(preds==y_test)"
   ]
  },
  {
   "cell_type": "code",
   "execution_count": 34,
   "id": "37d2d980-79b2-4f72-bf43-17ffc6cb3a69",
   "metadata": {},
   "outputs": [],
   "source": [
    "#Building Decision Tree Classifier (CART) using Gini Criteria¶"
   ]
  },
  {
   "cell_type": "code",
   "execution_count": 35,
   "id": "e724e5ec-8106-4a0b-b6ac-7cef79d9a2aa",
   "metadata": {},
   "outputs": [],
   "source": [
    "from sklearn.tree import DecisionTreeClassifier\n",
    "model_gini = DecisionTreeClassifier(criterion='gini', max_depth=3)"
   ]
  },
  {
   "cell_type": "code",
   "execution_count": 36,
   "id": "f7857ea8-451e-4d9d-8a13-843714808877",
   "metadata": {},
   "outputs": [
    {
     "data": {
      "text/html": [
       "<style>#sk-container-id-2 {color: black;background-color: white;}#sk-container-id-2 pre{padding: 0;}#sk-container-id-2 div.sk-toggleable {background-color: white;}#sk-container-id-2 label.sk-toggleable__label {cursor: pointer;display: block;width: 100%;margin-bottom: 0;padding: 0.3em;box-sizing: border-box;text-align: center;}#sk-container-id-2 label.sk-toggleable__label-arrow:before {content: \"▸\";float: left;margin-right: 0.25em;color: #696969;}#sk-container-id-2 label.sk-toggleable__label-arrow:hover:before {color: black;}#sk-container-id-2 div.sk-estimator:hover label.sk-toggleable__label-arrow:before {color: black;}#sk-container-id-2 div.sk-toggleable__content {max-height: 0;max-width: 0;overflow: hidden;text-align: left;background-color: #f0f8ff;}#sk-container-id-2 div.sk-toggleable__content pre {margin: 0.2em;color: black;border-radius: 0.25em;background-color: #f0f8ff;}#sk-container-id-2 input.sk-toggleable__control:checked~div.sk-toggleable__content {max-height: 200px;max-width: 100%;overflow: auto;}#sk-container-id-2 input.sk-toggleable__control:checked~label.sk-toggleable__label-arrow:before {content: \"▾\";}#sk-container-id-2 div.sk-estimator input.sk-toggleable__control:checked~label.sk-toggleable__label {background-color: #d4ebff;}#sk-container-id-2 div.sk-label input.sk-toggleable__control:checked~label.sk-toggleable__label {background-color: #d4ebff;}#sk-container-id-2 input.sk-hidden--visually {border: 0;clip: rect(1px 1px 1px 1px);clip: rect(1px, 1px, 1px, 1px);height: 1px;margin: -1px;overflow: hidden;padding: 0;position: absolute;width: 1px;}#sk-container-id-2 div.sk-estimator {font-family: monospace;background-color: #f0f8ff;border: 1px dotted black;border-radius: 0.25em;box-sizing: border-box;margin-bottom: 0.5em;}#sk-container-id-2 div.sk-estimator:hover {background-color: #d4ebff;}#sk-container-id-2 div.sk-parallel-item::after {content: \"\";width: 100%;border-bottom: 1px solid gray;flex-grow: 1;}#sk-container-id-2 div.sk-label:hover label.sk-toggleable__label {background-color: #d4ebff;}#sk-container-id-2 div.sk-serial::before {content: \"\";position: absolute;border-left: 1px solid gray;box-sizing: border-box;top: 0;bottom: 0;left: 50%;z-index: 0;}#sk-container-id-2 div.sk-serial {display: flex;flex-direction: column;align-items: center;background-color: white;padding-right: 0.2em;padding-left: 0.2em;position: relative;}#sk-container-id-2 div.sk-item {position: relative;z-index: 1;}#sk-container-id-2 div.sk-parallel {display: flex;align-items: stretch;justify-content: center;background-color: white;position: relative;}#sk-container-id-2 div.sk-item::before, #sk-container-id-2 div.sk-parallel-item::before {content: \"\";position: absolute;border-left: 1px solid gray;box-sizing: border-box;top: 0;bottom: 0;left: 50%;z-index: -1;}#sk-container-id-2 div.sk-parallel-item {display: flex;flex-direction: column;z-index: 1;position: relative;background-color: white;}#sk-container-id-2 div.sk-parallel-item:first-child::after {align-self: flex-end;width: 50%;}#sk-container-id-2 div.sk-parallel-item:last-child::after {align-self: flex-start;width: 50%;}#sk-container-id-2 div.sk-parallel-item:only-child::after {width: 0;}#sk-container-id-2 div.sk-dashed-wrapped {border: 1px dashed gray;margin: 0 0.4em 0.5em 0.4em;box-sizing: border-box;padding-bottom: 0.4em;background-color: white;}#sk-container-id-2 div.sk-label label {font-family: monospace;font-weight: bold;display: inline-block;line-height: 1.2em;}#sk-container-id-2 div.sk-label-container {text-align: center;}#sk-container-id-2 div.sk-container {/* jupyter's `normalize.less` sets `[hidden] { display: none; }` but bootstrap.min.css set `[hidden] { display: none !important; }` so we also need the `!important` here to be able to override the default hidden behavior on the sphinx rendered scikit-learn.org. See: https://github.com/scikit-learn/scikit-learn/issues/21755 */display: inline-block !important;position: relative;}#sk-container-id-2 div.sk-text-repr-fallback {display: none;}</style><div id=\"sk-container-id-2\" class=\"sk-top-container\"><div class=\"sk-text-repr-fallback\"><pre>DecisionTreeClassifier(max_depth=3)</pre><b>In a Jupyter environment, please rerun this cell to show the HTML representation or trust the notebook. <br />On GitHub, the HTML representation is unable to render, please try loading this page with nbviewer.org.</b></div><div class=\"sk-container\" hidden><div class=\"sk-item\"><div class=\"sk-estimator sk-toggleable\"><input class=\"sk-toggleable__control sk-hidden--visually\" id=\"sk-estimator-id-2\" type=\"checkbox\" checked><label for=\"sk-estimator-id-2\" class=\"sk-toggleable__label sk-toggleable__label-arrow\">DecisionTreeClassifier</label><div class=\"sk-toggleable__content\"><pre>DecisionTreeClassifier(max_depth=3)</pre></div></div></div></div></div>"
      ],
      "text/plain": [
       "DecisionTreeClassifier(max_depth=3)"
      ]
     },
     "execution_count": 36,
     "metadata": {},
     "output_type": "execute_result"
    }
   ],
   "source": [
    "model_gini.fit(x_train, y_train)"
   ]
  },
  {
   "cell_type": "code",
   "execution_count": 37,
   "id": "40c72f6f-4104-4bcd-abcf-b4e7fb9c899b",
   "metadata": {},
   "outputs": [
    {
     "data": {
      "text/plain": [
       "0.4674657534246575"
      ]
     },
     "execution_count": 37,
     "metadata": {},
     "output_type": "execute_result"
    }
   ],
   "source": [
    "#Prediction and computing the accuracy\n",
    "pred=model.predict(x_test)\n",
    "np.mean(preds==y_test)"
   ]
  },
  {
   "cell_type": "code",
   "execution_count": 38,
   "id": "4d32b629-01e7-41cb-b95b-a580ac9520f2",
   "metadata": {},
   "outputs": [],
   "source": [
    "#Decision Tree Regression"
   ]
  },
  {
   "cell_type": "code",
   "execution_count": 39,
   "id": "1680c431-1783-420d-bf76-1cd9fbb564b7",
   "metadata": {},
   "outputs": [],
   "source": [
    "from sklearn.tree import DecisionTreeRegressor"
   ]
  },
  {
   "cell_type": "code",
   "execution_count": 40,
   "id": "61e244d2-c0f9-4628-8428-0fb566dc325d",
   "metadata": {},
   "outputs": [],
   "source": [
    "array = df.values\n",
    "X = array[:,0:8]\n",
    "y = array[:,8]"
   ]
  },
  {
   "cell_type": "code",
   "execution_count": 41,
   "id": "66bea2f4-7ab9-48ee-8cea-39cecceec74e",
   "metadata": {},
   "outputs": [],
   "source": [
    "X_train, X_test, y_train, y_test = train_test_split(X, y, test_size=0.33, random_state=40)"
   ]
  },
  {
   "cell_type": "code",
   "execution_count": 42,
   "id": "01843f8a-4b91-4d9d-9471-df129e84504c",
   "metadata": {},
   "outputs": [
    {
     "data": {
      "text/html": [
       "<style>#sk-container-id-3 {color: black;background-color: white;}#sk-container-id-3 pre{padding: 0;}#sk-container-id-3 div.sk-toggleable {background-color: white;}#sk-container-id-3 label.sk-toggleable__label {cursor: pointer;display: block;width: 100%;margin-bottom: 0;padding: 0.3em;box-sizing: border-box;text-align: center;}#sk-container-id-3 label.sk-toggleable__label-arrow:before {content: \"▸\";float: left;margin-right: 0.25em;color: #696969;}#sk-container-id-3 label.sk-toggleable__label-arrow:hover:before {color: black;}#sk-container-id-3 div.sk-estimator:hover label.sk-toggleable__label-arrow:before {color: black;}#sk-container-id-3 div.sk-toggleable__content {max-height: 0;max-width: 0;overflow: hidden;text-align: left;background-color: #f0f8ff;}#sk-container-id-3 div.sk-toggleable__content pre {margin: 0.2em;color: black;border-radius: 0.25em;background-color: #f0f8ff;}#sk-container-id-3 input.sk-toggleable__control:checked~div.sk-toggleable__content {max-height: 200px;max-width: 100%;overflow: auto;}#sk-container-id-3 input.sk-toggleable__control:checked~label.sk-toggleable__label-arrow:before {content: \"▾\";}#sk-container-id-3 div.sk-estimator input.sk-toggleable__control:checked~label.sk-toggleable__label {background-color: #d4ebff;}#sk-container-id-3 div.sk-label input.sk-toggleable__control:checked~label.sk-toggleable__label {background-color: #d4ebff;}#sk-container-id-3 input.sk-hidden--visually {border: 0;clip: rect(1px 1px 1px 1px);clip: rect(1px, 1px, 1px, 1px);height: 1px;margin: -1px;overflow: hidden;padding: 0;position: absolute;width: 1px;}#sk-container-id-3 div.sk-estimator {font-family: monospace;background-color: #f0f8ff;border: 1px dotted black;border-radius: 0.25em;box-sizing: border-box;margin-bottom: 0.5em;}#sk-container-id-3 div.sk-estimator:hover {background-color: #d4ebff;}#sk-container-id-3 div.sk-parallel-item::after {content: \"\";width: 100%;border-bottom: 1px solid gray;flex-grow: 1;}#sk-container-id-3 div.sk-label:hover label.sk-toggleable__label {background-color: #d4ebff;}#sk-container-id-3 div.sk-serial::before {content: \"\";position: absolute;border-left: 1px solid gray;box-sizing: border-box;top: 0;bottom: 0;left: 50%;z-index: 0;}#sk-container-id-3 div.sk-serial {display: flex;flex-direction: column;align-items: center;background-color: white;padding-right: 0.2em;padding-left: 0.2em;position: relative;}#sk-container-id-3 div.sk-item {position: relative;z-index: 1;}#sk-container-id-3 div.sk-parallel {display: flex;align-items: stretch;justify-content: center;background-color: white;position: relative;}#sk-container-id-3 div.sk-item::before, #sk-container-id-3 div.sk-parallel-item::before {content: \"\";position: absolute;border-left: 1px solid gray;box-sizing: border-box;top: 0;bottom: 0;left: 50%;z-index: -1;}#sk-container-id-3 div.sk-parallel-item {display: flex;flex-direction: column;z-index: 1;position: relative;background-color: white;}#sk-container-id-3 div.sk-parallel-item:first-child::after {align-self: flex-end;width: 50%;}#sk-container-id-3 div.sk-parallel-item:last-child::after {align-self: flex-start;width: 50%;}#sk-container-id-3 div.sk-parallel-item:only-child::after {width: 0;}#sk-container-id-3 div.sk-dashed-wrapped {border: 1px dashed gray;margin: 0 0.4em 0.5em 0.4em;box-sizing: border-box;padding-bottom: 0.4em;background-color: white;}#sk-container-id-3 div.sk-label label {font-family: monospace;font-weight: bold;display: inline-block;line-height: 1.2em;}#sk-container-id-3 div.sk-label-container {text-align: center;}#sk-container-id-3 div.sk-container {/* jupyter's `normalize.less` sets `[hidden] { display: none; }` but bootstrap.min.css set `[hidden] { display: none !important; }` so we also need the `!important` here to be able to override the default hidden behavior on the sphinx rendered scikit-learn.org. See: https://github.com/scikit-learn/scikit-learn/issues/21755 */display: inline-block !important;position: relative;}#sk-container-id-3 div.sk-text-repr-fallback {display: none;}</style><div id=\"sk-container-id-3\" class=\"sk-top-container\"><div class=\"sk-text-repr-fallback\"><pre>DecisionTreeRegressor()</pre><b>In a Jupyter environment, please rerun this cell to show the HTML representation or trust the notebook. <br />On GitHub, the HTML representation is unable to render, please try loading this page with nbviewer.org.</b></div><div class=\"sk-container\" hidden><div class=\"sk-item\"><div class=\"sk-estimator sk-toggleable\"><input class=\"sk-toggleable__control sk-hidden--visually\" id=\"sk-estimator-id-3\" type=\"checkbox\" checked><label for=\"sk-estimator-id-3\" class=\"sk-toggleable__label sk-toggleable__label-arrow\">DecisionTreeRegressor</label><div class=\"sk-toggleable__content\"><pre>DecisionTreeRegressor()</pre></div></div></div></div></div>"
      ],
      "text/plain": [
       "DecisionTreeRegressor()"
      ]
     },
     "execution_count": 42,
     "metadata": {},
     "output_type": "execute_result"
    }
   ],
   "source": [
    "model = DecisionTreeRegressor()\n",
    "model.fit(X_train, y_train)"
   ]
  },
  {
   "cell_type": "code",
   "execution_count": 43,
   "id": "d1b1d66f-a12d-45fc-8a6c-6ece1f0f4b77",
   "metadata": {},
   "outputs": [
    {
     "data": {
      "text/plain": [
       "0.8205787132133249"
      ]
     },
     "execution_count": 43,
     "metadata": {},
     "output_type": "execute_result"
    }
   ],
   "source": [
    "#Find the accuracy\n",
    "model.score(X_test,y_test)"
   ]
  },
  {
   "cell_type": "code",
   "execution_count": null,
   "id": "1f1ce773-a72b-4177-b109-c938b686a2b5",
   "metadata": {},
   "outputs": [],
   "source": []
  }
 ],
 "metadata": {
  "kernelspec": {
   "display_name": "Python 3 (ipykernel)",
   "language": "python",
   "name": "python3"
  },
  "language_info": {
   "codemirror_mode": {
    "name": "ipython",
    "version": 3
   },
   "file_extension": ".py",
   "mimetype": "text/x-python",
   "name": "python",
   "nbconvert_exporter": "python",
   "pygments_lexer": "ipython3",
   "version": "3.11.7"
  }
 },
 "nbformat": 4,
 "nbformat_minor": 5
}
